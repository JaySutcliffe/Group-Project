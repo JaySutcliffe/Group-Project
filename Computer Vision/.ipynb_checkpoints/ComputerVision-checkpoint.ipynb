{
 "cells": [
  {
   "cell_type": "markdown",
   "metadata": {},
   "source": [
    "Using https://www.pyimagesearch.com/2016/02/15/determining-object-color-with-opencv/ to work coordinates for tokens based on colour.\n",
    "\n",
    "https://jakevdp.github.io/blog/2017/12/05/installing-python-packages-from-jupyter/ for downloading packages in Notebook."
   ]
  },
  {
   "cell_type": "code",
   "execution_count": 32,
   "metadata": {},
   "outputs": [],
   "source": [
    "# Install a pip package in the current Jupyter kernel\n",
    "# import sys\n",
    "# !{sys.executable} -m pip install --upgrade imutils\n",
    "# !{sys.executable} -m pip install --upgrade opencv-python"
   ]
  },
  {
   "cell_type": "code",
   "execution_count": 33,
   "metadata": {},
   "outputs": [],
   "source": [
    "# import the necessary packages\n",
    "import argparse\n",
    "import imutils\n",
    "import cv2\n",
    "import numpy as np"
   ]
  },
  {
   "cell_type": "code",
   "execution_count": 34,
   "metadata": {},
   "outputs": [],
   "source": [
    "# load the image, convert it to grayscale, blur it slightly,\n",
    "# and threshold it\n",
    "image = cv2.imread('board3.jpg')"
   ]
  },
  {
   "cell_type": "markdown",
   "metadata": {},
   "source": [
    "https://www.pyimagesearch.com/2014/08/04/opencv-python-color-detection/ using to mask the image to only deal with parts of a certain colour."
   ]
  },
  {
   "cell_type": "code",
   "execution_count": 35,
   "metadata": {},
   "outputs": [],
   "source": [
    "lower = np.array([140, 0, 0], dtype = \"uint8\") # BGR\n",
    "upper = np.array([255, 100, 100], dtype = \"uint8\")\n",
    "\n",
    "# find the colors within the specified boundaries and apply\n",
    "# the mask\n",
    "mask = cv2.inRange(image, lower, upper)\n",
    "image = cv2.bitwise_and(image, image, mask = mask)"
   ]
  },
  {
   "cell_type": "code",
   "execution_count": 36,
   "metadata": {},
   "outputs": [],
   "source": [
    "gray = cv2.cvtColor(image, cv2.COLOR_BGR2GRAY)\n",
    "blurred = cv2.GaussianBlur(gray, (5, 5), 0)\n",
    "thresh = cv2.threshold(blurred, 60, 255, cv2.THRESH_BINARY)[1]\n",
    "\n",
    "# find contours in the thresholded image\n",
    "cnts = cv2.findContours(thresh.copy(), cv2.RETR_EXTERNAL,cv2.CHAIN_APPROX_SIMPLE)\n",
    "cnts = imutils.grab_contours(cnts)\n",
    "\n",
    "# loop over the contours\n",
    "for c in cnts:\n",
    "    # compute the center of the contour\n",
    "    M = cv2.moments(c)\n",
    "    cX = 0\n",
    "    cY = 0\n",
    "    if M[\"m00\"] != 0:\n",
    "        cX = int(M[\"m10\"] / M[\"m00\"])\n",
    "        cY = int(M[\"m01\"] / M[\"m00\"])\n",
    " \n",
    "    # draw the contour and center of the shape on the image\n",
    "    cv2.drawContours(image, [c], -1, (0, 255, 0), 2)\n",
    "    cv2.circle(image, (cX, cY), 7, (255, 255, 255), -1)\n",
    "    cv2.putText(image, \"center\", (cX - 20, cY - 20),\n",
    "    cv2.FONT_HERSHEY_SIMPLEX, 0.5, (255, 255, 255), 2)"
   ]
  },
  {
   "cell_type": "code",
   "execution_count": 37,
   "metadata": {},
   "outputs": [],
   "source": [
    "cv2.imshow('board.jpg',image)\n",
    "cv2.waitKey(0)\n",
    "cv2.destroyAllWindows()"
   ]
  }
 ],
 "metadata": {
  "kernelspec": {
   "display_name": "Python 3",
   "language": "python",
   "name": "python3"
  },
  "language_info": {
   "codemirror_mode": {
    "name": "ipython",
    "version": 3
   },
   "file_extension": ".py",
   "mimetype": "text/x-python",
   "name": "python",
   "nbconvert_exporter": "python",
   "pygments_lexer": "ipython3",
   "version": "3.7.0"
  }
 },
 "nbformat": 4,
 "nbformat_minor": 2
}
