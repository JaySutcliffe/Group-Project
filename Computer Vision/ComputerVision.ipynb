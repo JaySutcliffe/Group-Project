{
 "cells": [
  {
   "cell_type": "markdown",
   "metadata": {},
   "source": [
    "Using https://www.pyimagesearch.com/2016/02/15/determining-object-color-with-opencv/ to work coordinates for tokens based on colour.\n",
    "\n",
    "https://jakevdp.github.io/blog/2017/12/05/installing-python-packages-from-jupyter/ for downloading packages in Notebook."
   ]
  },
  {
   "cell_type": "code",
   "execution_count": 300,
   "metadata": {},
   "outputs": [],
   "source": [
    "# Install a pip package in the current Jupyter kernel\n",
    "# import sys\n",
    "# !{sys.executable} -m pip install --upgrade imutils\n",
    "# !{sys.executable} -m pip install --upgrade opencv-python"
   ]
  },
  {
   "cell_type": "code",
   "execution_count": 301,
   "metadata": {},
   "outputs": [],
   "source": [
    "# import the necessary packages\n",
    "import argparse\n",
    "import imutils\n",
    "import cv2\n",
    "import numpy as np"
   ]
  },
  {
   "cell_type": "code",
   "execution_count": 302,
   "metadata": {},
   "outputs": [],
   "source": [
    "# load the image, convert it to grayscale, blur it slightly,\n",
    "# and threshold it\n",
    "image = cv2.imread('board3.jpg')"
   ]
  },
  {
   "cell_type": "code",
   "execution_count": 303,
   "metadata": {},
   "outputs": [],
   "source": [
    "# CONSTANTS\n",
    "SPIKE_WIDTH = 13 / 22\n",
    "SPIKE_HEIGHT = 8 / 22\n",
    "MIDDLE_HEIGHT = 6 / 22\n",
    "BLACK_COLOUR_LOWER = [0,0,140]\n",
    "BLACK_COLOUR_HIGHER = [100,100,255]\n",
    "WHITE_COLOUR_LOWER = [140,0,0]\n",
    "WHITE_COLOUR_HIGHER = [255,100,100]"
   ]
  },
  {
   "cell_type": "markdown",
   "metadata": {},
   "source": [
    "https://www.pyimagesearch.com/2014/08/04/opencv-python-color-detection/ using to mask the image to only deal with parts of a certain colour."
   ]
  },
  {
   "cell_type": "code",
   "execution_count": 304,
   "metadata": {},
   "outputs": [],
   "source": [
    "def get_shapes(image, lower, upper):\n",
    "    # From RGB to BGR\n",
    "    lower.reverse()\n",
    "    upper.reverse()\n",
    "    \n",
    "    lower = np.array(lower, dtype = \"uint8\")\n",
    "    upper = np.array(upper, dtype = \"uint8\")\n",
    "    \n",
    "    # find the colors within the specified boundaries and apply the mask\n",
    "    mask = cv2.inRange(image, lower, upper)\n",
    "    image = cv2.bitwise_and(image, image, mask = mask)\n",
    "    \n",
    "    # Each element has the form (x,y,area)\n",
    "    xs = [];\n",
    "    ys = [];\n",
    "    areas = []; \n",
    "    \n",
    "    # Our image is already white on black, but we apply grayscale\n",
    "    # again, blur the image for better detection and then apply\n",
    "    # a threshold.\n",
    "    gray = cv2.cvtColor(image, cv2.COLOR_BGR2GRAY)\n",
    "    blurred = cv2.GaussianBlur(gray, (5, 5), 0)\n",
    "    thresh = cv2.threshold(blurred, 60, 255, cv2.THRESH_BINARY)[1]\n",
    "\n",
    "    # Contours are a curve that joins all the continous points\n",
    "    # around an object with a specific colour intensity.\n",
    "    # in openCV this is finding white objects on a black background.\n",
    "    cnts = cv2.findContours(thresh.copy(), cv2.RETR_EXTERNAL,cv2.CHAIN_APPROX_SIMPLE)\n",
    "    cnts = imutils.grab_contours(cnts)\n",
    "    \n",
    "    # loop over the contours\n",
    "    for c in cnts:\n",
    "        # compute the center of the contour\n",
    "        M = cv2.moments(c) # Weighted average of pixel intensities\n",
    "    \n",
    "        # Computing the coordinates of the centre of each token.\n",
    "        # Coordinates are relative to the image.\n",
    "        # So they are on a 1200 by 720 grid.\n",
    "    \n",
    "        # Small amount of the colour picked up, ignore as no area so\n",
    "        # will not be a token.\n",
    "        if M[\"m00\"] == 0: continue\n",
    "        \n",
    "        xs += [M[\"m10\"] / M[\"m00\"]]\n",
    "        ys += [M[\"m01\"] / M[\"m00\"]]\n",
    "        areas += [M[\"m00\"]]\n",
    "        \n",
    "        x = int(M[\"m10\"] / M[\"m00\"])\n",
    "        y = int(M[\"m01\"] / M[\"m00\"])\n",
    "        \n",
    "        # Code off of the internet that can plot the contours.\n",
    "        cv2.drawContours(image, [c], -1, (0, 255, 0), 2)\n",
    "        cv2.circle(image, (x, y), 7, (255, 255, 255), -1)\n",
    "        cv2.putText(image, \"center\", (x - 20, y - 20),\n",
    "        cv2.FONT_HERSHEY_SIMPLEX, 0.5, (255, 255, 255), 2)\n",
    "    \n",
    "    # cv2.imshow(\"cam-test\",image)\n",
    "    # cv2.waitKey(10)\n",
    "\n",
    "    return np.row_stack((xs,ys,areas))"
   ]
  },
  {
   "cell_type": "code",
   "execution_count": 305,
   "metadata": {},
   "outputs": [],
   "source": [
    "def report_positions():\n",
    "    # Getting all of the black tokens\n",
    "    black = get_shapes(image, BLACK_COLOUR_LOWER, BLACK_COLOUR_HIGHER)\n",
    "    \n",
    "    # Getting all of the white tokens\n",
    "    white = get_shapes(image, WHITE_COLOUR_LOWER, WHITE_COLOUR_HIGHER)\n",
    "\n",
    "    # Creating a matrix each column contains details of each token\n",
    "    black = np.vstack((black, np.array([1] * black.shape[1])))\n",
    "    white = np.vstack((white, np.array([0] * white.shape[1])))\n",
    "    tokens = np.hstack((black, white))\n",
    "\n",
    "    # Creating bins dividing the the grid into spikes, \n",
    "    x_inds = np.digitize(tokens[0], SPIKE_WIDTH * np.arange(1,12))\n",
    "    y_inds = np.digitize(tokens[1], [SPIKE_HEIGHT, SPIKE_HEIGHT + MIDDLE_HEIGHT])\n",
    "\n",
    "    knocked_out = []\n",
    "    board = [[]] * 24\n",
    "\n",
    "    for i in range(0,tokens.shape[1]):\n",
    "        s = tokens[:,i]\n",
    "        x = x_inds[i]\n",
    "        y = y_inds[i]\n",
    "        \n",
    "        if y == 1 or x == 6: # Middle section of the board\n",
    "            knocked_out = knocked_out + [s]\n",
    "        else:\n",
    "            # Subtracting 1 as some put in bin of divider between the groups of spikes\n",
    "            if x > 6:\n",
    "                x -= 1\n",
    "            if y == 0:\n",
    "                board[23-x] = board[23-x] + [s]\n",
    "            else:\n",
    "                board[x] = board[x] + [s]\n",
    "                \n",
    "    return board"
   ]
  },
  {
   "cell_type": "code",
   "execution_count": 306,
   "metadata": {},
   "outputs": [],
   "source": [
    "def count_colours(spike):\n",
    "    # Dealing with floating points so do not want to do ==\n",
    "    spike = spike\n",
    "    # Counting the number of tokens labelled black and the number labelled white\n",
    "    colours = np.array([spike[i][3] for i in range(0,len(spike))])\n",
    "    black_count = sum(np.where(colours > 0.95, 1, 0))\n",
    "    white_count = sum(np.where(colours < 0.01, 1, 0))\n",
    "    # Returning a pair to indicate the colour and count\n",
    "    if black_count == 0:\n",
    "        if white_count == 0:\n",
    "            return (\"N\", 0)\n",
    "        else:\n",
    "            return (\"W\", white_count)\n",
    "    else:\n",
    "        if white_count == 0:\n",
    "            return (\"B\", black_count)\n",
    "        else:\n",
    "            return (\"E\", black_count - white_count)"
   ]
  },
  {
   "cell_type": "code",
   "execution_count": 307,
   "metadata": {},
   "outputs": [],
   "source": [
    "def abstract_board(board):\n",
    "    return [count_colours(spike) for spike in board]"
   ]
  },
  {
   "cell_type": "code",
   "execution_count": 308,
   "metadata": {},
   "outputs": [
    {
     "name": "stdout",
     "output_type": "stream",
     "text": [
      "[[], [], [], [], [], [], [], [], [], [], [array([4.77778854e+02, 6.26610616e+02, 1.96250000e+03, 1.00000000e+00]), array([6.02872682e+02, 5.83360808e+02, 1.92300000e+03, 1.00000000e+00])], [], [], [], [], [], [], [], [], [], [], [], [], []]\n"
     ]
    },
    {
     "data": {
      "text/plain": [
       "[('N', 0),\n",
       " ('N', 0),\n",
       " ('N', 0),\n",
       " ('N', 0),\n",
       " ('N', 0),\n",
       " ('N', 0),\n",
       " ('N', 0),\n",
       " ('N', 0),\n",
       " ('N', 0),\n",
       " ('N', 0),\n",
       " ('B', 2),\n",
       " ('N', 0),\n",
       " ('N', 0),\n",
       " ('N', 0),\n",
       " ('N', 0),\n",
       " ('N', 0),\n",
       " ('N', 0),\n",
       " ('N', 0),\n",
       " ('N', 0),\n",
       " ('N', 0),\n",
       " ('N', 0),\n",
       " ('N', 0),\n",
       " ('N', 0),\n",
       " ('N', 0)]"
      ]
     },
     "execution_count": 308,
     "metadata": {},
     "output_type": "execute_result"
    }
   ],
   "source": [
    "board = report_positions()\n",
    "print(board)\n",
    "abstract_board(board)"
   ]
  },
  {
   "cell_type": "code",
   "execution_count": 309,
   "metadata": {},
   "outputs": [],
   "source": [
    "cv2.imshow('board.jpg',image)\n",
    "cv2.waitKey(0)\n",
    "cv2.destroyAllWindows()"
   ]
  },
  {
   "cell_type": "code",
   "execution_count": 310,
   "metadata": {},
   "outputs": [
    {
     "name": "stdout",
     "output_type": "stream",
     "text": [
      "Error reading from webcam\n"
     ]
    }
   ],
   "source": [
    "while True:\n",
    "    cam = cv2.VideoCapture(1)   # 0 -> index of camera\n",
    "    retrieved, image = cam.read()\n",
    "    #image = cv2.imread('board5.jpg')\n",
    "    if retrieved:\n",
    "        #shapes = get_shapes(image,[0,0,100],[100,100,255])\n",
    "        shapes = get_shapes(image,[95,220,95],[180,255,180])\n",
    "        #v2.imshow(\"cam-test\",image)\n",
    "        #cv2.waitKey(10)\n",
    "    else:\n",
    "        print(\"Error reading from webcam\")\n",
    "        cv2.destroyAllWindows()\n",
    "        break"
   ]
  }
 ],
 "metadata": {
  "kernelspec": {
   "display_name": "Python 3",
   "language": "python",
   "name": "python3"
  },
  "language_info": {
   "codemirror_mode": {
    "name": "ipython",
    "version": 3
   },
   "file_extension": ".py",
   "mimetype": "text/x-python",
   "name": "python",
   "nbconvert_exporter": "python",
   "pygments_lexer": "ipython3",
   "version": "3.7.0"
  }
 },
 "nbformat": 4,
 "nbformat_minor": 2
}
