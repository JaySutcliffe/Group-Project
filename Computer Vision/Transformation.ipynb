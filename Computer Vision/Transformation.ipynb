{
 "cells": [
  {
   "cell_type": "code",
   "execution_count": 7,
   "metadata": {},
   "outputs": [
    {
     "name": "stdout",
     "output_type": "stream",
     "text": [
      "Requirement already up-to-date: imutils in c:\\users\\archie\\anaconda3\\lib\\site-packages (0.5.3)\n",
      "Requirement already up-to-date: opencv-python in c:\\users\\archie\\anaconda3\\lib\\site-packages (4.2.0.32)\n",
      "Requirement already satisfied, skipping upgrade: numpy>=1.11.3 in c:\\users\\archie\\anaconda3\\lib\\site-packages (from opencv-python) (1.15.4)\n"
     ]
    }
   ],
   "source": [
    "# Install a pip package in the current Jupyter kernel\n",
    "\n",
    "import sys\n",
    "!{sys.executable} -m pip install --upgrade imutils\n",
    "!{sys.executable} -m pip install --upgrade opencv-python"
   ]
  },
  {
   "cell_type": "code",
   "execution_count": 50,
   "metadata": {},
   "outputs": [],
   "source": [
    "# import the necessary packages\n",
    "import argparse\n",
    "import imutils\n",
    "import cv2\n",
    "import numpy as np \n",
    "\n",
    "# load the image, convert it to grayscale, blur it slightly,\n",
    "# and threshold it\n",
    "name = 'angled.jpg'\n",
    "image = cv2.imread(name)\n",
    "height, width, channels = image.shape\n",
    "image = cv2.resize(image,(width//2,height//2))\n",
    "hsv = cv2.cvtColor(image, cv2.COLOR_BGR2HSV)\n",
    "gray = cv2.cvtColor(image, cv2.COLOR_BGR2GRAY)\n",
    "blurred = cv2.GaussianBlur(gray, (5, 5), 0)\n",
    "thresh = cv2.threshold(blurred, 60, 255, cv2.THRESH_OTSU)[1]\n",
    "cv2.imshow('image', image)\n",
    "cv2.waitKey(0)\n",
    "cv2.destroyAllWindows()\n"
   ]
  },
  {
   "cell_type": "code",
   "execution_count": 51,
   "metadata": {},
   "outputs": [],
   "source": [
    "\n",
    "\n",
    "lower = np.array([50,70,180]) \n",
    "upper = np.array([80,255,255]) \n",
    "\n",
    "mask = cv2.inRange(hsv, lower, upper) \n",
    "res = cv2.bitwise_and(image,image, mask= mask)\n",
    "gray = cv2.cvtColor(res, cv2.COLOR_BGR2GRAY)\n",
    "cv2.imshow('image', res)\n",
    "cv2.waitKey(0)\n",
    "cv2.destroyAllWindows()"
   ]
  },
  {
   "cell_type": "code",
   "execution_count": 52,
   "metadata": {},
   "outputs": [],
   "source": [
    "def contours():\n",
    "    cnts = cv2.findContours(gray.copy(), cv2.RETR_EXTERNAL,cv2.CHAIN_APPROX_SIMPLE)\n",
    "    cnts = imutils.grab_contours(cnts)\n",
    "    pts = np.zeros((len(cnts), 2), dtype = \"int32\")\n",
    "\n",
    "# loop over the contours\n",
    "    count = 0\n",
    "    for c in cnts:\n",
    "        # compute the center of the contour\n",
    "        M = cv2.moments(c)\n",
    "        cX = 0\n",
    "        cY = 0\n",
    "        if M[\"m00\"] != 0:\n",
    "            cX = int(M[\"m10\"] / M[\"m00\"])\n",
    "            cY = int(M[\"m01\"] / M[\"m00\"])\n",
    "\n",
    "        pts[count] = [cX,cY]\n",
    "        count = count + 1\n",
    "        # draw the contour and center of the shape on the image\n",
    "        cv2.drawContours(image, [c], -1, (0, 255, 0), 2)\n",
    "        cv2.circle(image, (cX, cY), 7, (255, 255, 255), -1)\n",
    "        ##cv2.putText(image, \"center\", (cX - 20, cY - 20),\n",
    "        cv2.putText(image, str(cX) + \" , \" + str(cY) , (cX - 40 , cY ),\n",
    "        cv2.FONT_HERSHEY_SIMPLEX, 0.5, (255, 255, 255), 2)\n",
    "        cv2.imshow(\"image\", image)\n",
    "        cv2.waitKey(0)\n",
    "        cv2.destroyAllWindows()  \n",
    "    return pts\n",
    "        # show the image\n"
   ]
  },
  {
   "cell_type": "code",
   "execution_count": 53,
   "metadata": {},
   "outputs": [],
   "source": [
    "pts = contours()\n",
    "image = cv2.imread(name)\n",
    "image = cv2.resize(image,(width//2,height//2))\n",
    "\n",
    "rect = np.zeros((4, 2), dtype = \"float32\")\n",
    "\n",
    "a = pts.sum(axis = 1)\n",
    "rect[0] = pts[np.argmin(a)]\n",
    "rect[3] = pts[np.argmax(a)]\n",
    "\n",
    "b = np.diff(pts, axis = 1)\n",
    "rect[1] = pts[np.argmin(b)]\n",
    "rect[2] = pts[np.argmax(b)]\n",
    "\n",
    "(tl, tr, bl, br) = rect\n",
    "\n",
    "widthA = np.sqrt(((br[0] - bl[0]) ** 2) + ((br[1] - bl[1]) ** 2))\n",
    "widthB = np.sqrt(((tr[0] - tl[0]) ** 2) + ((tr[1] - tl[1]) ** 2))\n",
    "maxWidth = max(int(widthA), int(widthB))\n",
    "\n",
    "heightA = np.sqrt(((tr[0] - br[0]) ** 2) + ((tr[1] - br[1]) ** 2))\n",
    "heightB = np.sqrt(((tl[0] - bl[0]) ** 2) + ((tl[1] - bl[1]) ** 2))\n",
    "maxHeight = max(int(heightA), int(heightB))\n",
    "\n",
    "dst = np.array([[0, 0],[maxWidth , 0],[0, maxHeight],[maxWidth, maxHeight]], dtype = \"float32\")\n",
    "\n",
    "# compute the perspective transform matrix and then apply it\n",
    "pt = cv2.getPerspectiveTransform(rect, dst)\n",
    "warped = cv2.warpPerspective(image, pt, (maxWidth, maxHeight))\n",
    "cv2.imshow(\"image\", warped)\n",
    "cv2.waitKey(0)\n",
    "cv2.destroyAllWindows()  "
   ]
  },
  {
   "cell_type": "code",
   "execution_count": 54,
   "metadata": {},
   "outputs": [],
   "source": [
    "image = warped\n",
    "lower = np.array([100, 80, 130])\n",
    "upper = np.array([120, 180, 170])\n",
    "\n",
    "hsv = cv2.cvtColor(image, cv2.COLOR_BGR2HSV)\n",
    "mask = cv2.inRange(hsv, lower, upper) \n",
    "res = cv2.bitwise_and(image,image, mask= mask)\n",
    "gray = cv2.cvtColor(res, cv2.COLOR_BGR2GRAY)\n",
    "cv2.imshow('image', res)\n",
    "cv2.waitKey(0)\n",
    "cv2.destroyAllWindows()\n",
    "\n",
    "pts = contours()\n",
    "\n",
    "spike = np.zeros((len(pts)), dtype = \"float32\")\n",
    "w = maxWidth/13\n",
    "count = 0\n",
    "for a in pts:\n",
    "    count = count + 1\n",
    "    for x in range(1,13):\n",
    "        if a[0] < (w*x):\n",
    "            spike[count - 1] = x\n",
    "            cv2.putText(image, str(spike[count - 1]) , (a[0] -20 , a[1] - 20 ),\n",
    "            cv2.FONT_HERSHEY_SIMPLEX, 0.5, (255, 255, 255), 2)\n",
    "            \n",
    "            cv2.imshow(\"image\", image)\n",
    "            cv2.waitKey(0)\n",
    "            cv2.destroyAllWindows()  \n",
    "            break\n",
    "\n"
   ]
  },
  {
   "cell_type": "code",
   "execution_count": 55,
   "metadata": {},
   "outputs": [
    {
     "ename": "NameError",
     "evalue": "name 'output' is not defined",
     "output_type": "error",
     "traceback": [
      "\u001b[1;31m---------------------------------------------------------------------------\u001b[0m",
      "\u001b[1;31mNameError\u001b[0m                                 Traceback (most recent call last)",
      "\u001b[1;32m<ipython-input-55-91e92e381569>\u001b[0m in \u001b[0;36m<module>\u001b[1;34m\u001b[0m\n\u001b[0;32m     16\u001b[0m    \u001b[1;31m# draw the circle in the output image, then draw a rectangle\u001b[0m\u001b[1;33m\u001b[0m\u001b[1;33m\u001b[0m\u001b[1;33m\u001b[0m\u001b[0m\n\u001b[0;32m     17\u001b[0m    \u001b[1;31m# corresponding to the center of the circle\u001b[0m\u001b[1;33m\u001b[0m\u001b[1;33m\u001b[0m\u001b[1;33m\u001b[0m\u001b[0m\n\u001b[1;32m---> 18\u001b[1;33m        \u001b[0mcv2\u001b[0m\u001b[1;33m.\u001b[0m\u001b[0mcircle\u001b[0m\u001b[1;33m(\u001b[0m\u001b[0moutput\u001b[0m\u001b[1;33m,\u001b[0m \u001b[1;33m(\u001b[0m\u001b[0mx\u001b[0m\u001b[1;33m,\u001b[0m \u001b[0my\u001b[0m\u001b[1;33m)\u001b[0m\u001b[1;33m,\u001b[0m \u001b[0mr\u001b[0m\u001b[1;33m,\u001b[0m \u001b[1;33m(\u001b[0m\u001b[1;36m0\u001b[0m\u001b[1;33m,\u001b[0m \u001b[1;36m255\u001b[0m\u001b[1;33m,\u001b[0m \u001b[1;36m0\u001b[0m\u001b[1;33m)\u001b[0m\u001b[1;33m,\u001b[0m \u001b[1;36m4\u001b[0m\u001b[1;33m)\u001b[0m\u001b[1;33m\u001b[0m\u001b[1;33m\u001b[0m\u001b[0m\n\u001b[0m\u001b[0;32m     19\u001b[0m        \u001b[0mcv2\u001b[0m\u001b[1;33m.\u001b[0m\u001b[0mrectangle\u001b[0m\u001b[1;33m(\u001b[0m\u001b[0moutput\u001b[0m\u001b[1;33m,\u001b[0m \u001b[1;33m(\u001b[0m\u001b[0mx\u001b[0m \u001b[1;33m-\u001b[0m \u001b[1;36m5\u001b[0m\u001b[1;33m,\u001b[0m \u001b[0my\u001b[0m \u001b[1;33m-\u001b[0m \u001b[1;36m5\u001b[0m\u001b[1;33m)\u001b[0m\u001b[1;33m,\u001b[0m \u001b[1;33m(\u001b[0m\u001b[0mx\u001b[0m \u001b[1;33m+\u001b[0m \u001b[1;36m5\u001b[0m\u001b[1;33m,\u001b[0m \u001b[0my\u001b[0m \u001b[1;33m+\u001b[0m \u001b[1;36m5\u001b[0m\u001b[1;33m)\u001b[0m\u001b[1;33m,\u001b[0m \u001b[1;33m(\u001b[0m\u001b[1;36m0\u001b[0m\u001b[1;33m,\u001b[0m \u001b[1;36m128\u001b[0m\u001b[1;33m,\u001b[0m \u001b[1;36m255\u001b[0m\u001b[1;33m)\u001b[0m\u001b[1;33m,\u001b[0m \u001b[1;33m-\u001b[0m\u001b[1;36m1\u001b[0m\u001b[1;33m)\u001b[0m\u001b[1;33m\u001b[0m\u001b[1;33m\u001b[0m\u001b[0m\n\u001b[0;32m     20\u001b[0m    \u001b[1;31m# show the output image\u001b[0m\u001b[1;33m\u001b[0m\u001b[1;33m\u001b[0m\u001b[1;33m\u001b[0m\u001b[0m\n",
      "\u001b[1;31mNameError\u001b[0m: name 'output' is not defined"
     ]
    }
   ],
   "source": [
    " \n",
    "name = 'board4.jpg'\n",
    "image = cv2.imread(name)\n",
    "# detect circles in the image\n",
    "gray = cv2.cvtColor(image, cv2.COLOR_BGR2GRAY)\n",
    "\n",
    "#circles = cv2.HoughCircles(gray, cv2.HOUGH_GRADIENT, 1.2, 100)\n",
    "circles = cv2.HoughCircles(gray,cv2.HOUGH_GRADIENT,1,20,\n",
    "                            param1=50,param2=30,minRadius=0,maxRadius=0)\n",
    "# ensure at least some circles were found\n",
    "if circles is not None:\n",
    "    # convert the (x, y) coordinates and radius of the circles to integers\n",
    "    circles = np.round(circles[0, :]).astype(\"int\")\n",
    "    # loop over the (x, y) coordinates and radius of the circles\n",
    "    for (x, y, r) in circles:\n",
    "    # draw the circle in the output image, then draw a rectangle\n",
    "    # corresponding to the center of the circle\n",
    "        cv2.circle(output, (x, y), r, (0, 255, 0), 4)\n",
    "        cv2.rectangle(output, (x - 5, y - 5), (x + 5, y + 5), (0, 128, 255), -1)\n",
    "    # show the output image\n",
    "    cv2.imshow(\"output\", output)\n",
    "    cv2.waitKey(0)\n",
    "    cv2.destroyAllWindows()"
   ]
  },
  {
   "cell_type": "code",
   "execution_count": null,
   "metadata": {},
   "outputs": [],
   "source": []
  }
 ],
 "metadata": {
  "kernelspec": {
   "display_name": "Python 3",
   "language": "python",
   "name": "python3"
  },
  "language_info": {
   "codemirror_mode": {
    "name": "ipython",
    "version": 3
   },
   "file_extension": ".py",
   "mimetype": "text/x-python",
   "name": "python",
   "nbconvert_exporter": "python",
   "pygments_lexer": "ipython3",
   "version": "3.7.0"
  }
 },
 "nbformat": 4,
 "nbformat_minor": 2
}
